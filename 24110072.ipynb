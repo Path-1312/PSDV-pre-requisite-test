{
 "cells": [
  {
   "cell_type": "code",
   "execution_count": 18,
   "id": "82b9133f-4309-41b9-990e-9d5a67d76934",
   "metadata": {},
   "outputs": [
    {
     "name": "stdout",
     "output_type": "stream",
     "text": [
      "sum of even number: 110\n",
      "product of odd numbers: 654729075\n",
      "mean: 10.50\n",
      "median: 10.50\n",
      "standard deviation: 5.77\n"
     ]
    }
   ],
   "source": [
    "#Q1\n",
    "import math\n",
    "\n",
    "def mean(data):\n",
    "    total = sum(data)\n",
    "    count = len(data)\n",
    "    mean = total / count\n",
    "    return mean\n",
    "\n",
    "def median(data):\n",
    "    sorted_data = sorted(data)\n",
    "    count = len(sorted_data)\n",
    "    \n",
    "    if count % 2 == 0:\n",
    "        median = (sorted_data[count // 2 - 1] + sorted_data[count // 2]) / 2\n",
    "    else:\n",
    "        median = sorted_data[count // 2]\n",
    "    \n",
    "    return median\n",
    "\n",
    "def std(data):\n",
    "    mean_value = mean(data)\n",
    "    squared_diff = [(x - mean_value) ** 2 for x in data]\n",
    "    variance = sum(squared_diff) / len(data)\n",
    "    sd = math.sqrt(variance)\n",
    "    return sd\n",
    "\n",
    "l=list(range(1,21))\n",
    "l1=list(i for i in l if i%2!=0)\n",
    "l2=list(i for i in l if i%2==0)\n",
    "\n",
    "print(f\"sum of even number: {sum(l2)}\")\n",
    "print(f\"product of odd numbers: {math.prod(l1)}\")\n",
    "print(f\"mean: {mean(l):.2f}\")\n",
    "print(f\"median: {median(l):.2f}\")\n",
    "print(f\"standard deviation: {std(l):.2f}\")"
   ]
  },
  {
   "cell_type": "code",
   "execution_count": 19,
   "id": "d3bd7294-42a3-4254-9b94-f74881d0e522",
   "metadata": {},
   "outputs": [
    {
     "name": "stdin",
     "output_type": "stream",
     "text": [
      " 50\n"
     ]
    },
    {
     "name": "stdout",
     "output_type": "stream",
     "text": [
      "50\n"
     ]
    }
   ],
   "source": [
    "#Q2\n",
    "'''Immutable data types:\n",
    "an immutable data type is one where, once created, its state cannot be modified. Example: string '''\n",
    "\n",
    "''' mutable data types:\n",
    "an mutable data type is one where , we can make changes after it is created . Example: list, dictionary,etc'''\n",
    "x = int(input())\n",
    "print(x)"
   ]
  },
  {
   "cell_type": "code",
   "execution_count": 23,
   "id": "35bd3d68-2992-4462-8142-ee0545a4c0af",
   "metadata": {},
   "outputs": [
    {
     "name": "stdout",
     "output_type": "stream",
     "text": [
      "mean:  7.83\n",
      "median:  7.5\n"
     ]
    }
   ],
   "source": [
    "#Q4\n",
    "def mean(data):\n",
    "    total = sum(data)\n",
    "    count = len(data)\n",
    "    mean = total / count\n",
    "    return mean\n",
    "\n",
    "def median(data):\n",
    "    sorted_data = sorted(data)\n",
    "    count = len(sorted_data)\n",
    "    \n",
    "    if count % 2 == 0:\n",
    "        median = (sorted_data[count // 2 - 1] + sorted_data[count // 2]) / 2\n",
    "    else:\n",
    "        median = sorted_data[count // 2]\n",
    "    \n",
    "    return median\n",
    "\n",
    "l=[3,5,7,9,11,13]\n",
    "\n",
    "l.insert(3,6)\n",
    "l.remove(7)\n",
    "k=l[::-1]\n",
    "\n",
    "print(\"mean: \", round(mean(l),2))\n",
    "print(\"median: \", round(median(l),2))"
   ]
  },
  {
   "cell_type": "code",
   "execution_count": 6,
   "id": "e97efb7e-83c2-44ad-b142-b6c59cb9b7cc",
   "metadata": {},
   "outputs": [
    {
     "name": "stdin",
     "output_type": "stream",
     "text": [
      " acdef\n"
     ]
    },
    {
     "name": "stdout",
     "output_type": "stream",
     "text": [
      "False\n"
     ]
    }
   ],
   "source": [
    "#Q6\n",
    "s=input().lower()\n",
    "x=''.join(s.split())\n",
    "if x==x[::-1]:\n",
    "    print(True)\n",
    "else:\n",
    "    print(False)"
   ]
  },
  {
   "cell_type": "code",
   "execution_count": 26,
   "id": "aed6b768-e88b-4879-a0bf-cd804dccc6fa",
   "metadata": {},
   "outputs": [
    {
     "name": "stdout",
     "output_type": "stream",
     "text": [
      "{'a': 10, 'b': 25, 'c': 15}\n"
     ]
    }
   ],
   "source": [
    "#Q9\n",
    "d1 = {'a': 10, 'b': 20}\n",
    "d2 = {'b': 5, 'c': 15}\n",
    "result = {}\n",
    "\n",
    "for i in d1.keys():\n",
    "    if i in d2:\n",
    "        result[i] = d1[i] + d2[i]\n",
    "    else:\n",
    "        result[i] = d1[i]\n",
    "\n",
    "for i in d2.keys():\n",
    "    if i not in d1:\n",
    "        result[i] = d2[i]\n",
    "\n",
    "print(result)"
   ]
  },
  {
   "cell_type": "code",
   "execution_count": 11,
   "id": "b139485b-7405-4846-97c7-d3ccc704c79f",
   "metadata": {},
   "outputs": [
    {
     "name": "stdout",
     "output_type": "stream",
     "text": [
      "[1, 2, 3, 5, 6, 8]\n",
      "mean:4.17\n",
      "median:4.00\n"
     ]
    }
   ],
   "source": [
    "#Q11\n",
    "def mean(data):\n",
    "    total = sum(data)\n",
    "    count = len(data)\n",
    "    mean = total / count\n",
    "    return mean\n",
    "\n",
    "def median(data):\n",
    "    sorted_data = sorted(data)\n",
    "    count = len(sorted_data)\n",
    "    \n",
    "    if count % 2 == 0:\n",
    "        median = (sorted_data[count // 2 - 1] + sorted_data[count // 2]) / 2\n",
    "    else:\n",
    "        median = sorted_data[count // 2]\n",
    "    \n",
    "    return median\n",
    "\n",
    "l=[1,2,3,3,3,3,3,5,5,5,5,6,6,8,8]\n",
    "l1=list()\n",
    "for i in l:\n",
    "    if i not in l1:\n",
    "        l1.append(i)\n",
    "\n",
    "print(l1)\n",
    "\n",
    "#mean and median\n",
    "print(f\"mean:{mean(l1):.2f}\")\n",
    "print(f\"median:{median(l1):.2f}\")"
   ]
  },
  {
   "cell_type": "code",
   "execution_count": 7,
   "id": "b7ea8469-1028-4fd9-b1c5-903ac7d07703",
   "metadata": {},
   "outputs": [
    {
     "name": "stdout",
     "output_type": "stream",
     "text": [
      "[{'name': 'Bob', 'age': 22}, {'name': 'Alice', 'age': 25}]\n"
     ]
    }
   ],
   "source": [
    "#Q13\n",
    "given_data = [{'name': 'Alice', 'age': 25}, {'name': 'Bob', 'age': 22}]\n",
    "\n",
    "given_data.sort(key=lambda x: x['age'])\n",
    "print(given_data)"
   ]
  },
  {
   "cell_type": "code",
   "execution_count": 11,
   "id": "c813d306-13a1-4e60-acc3-3e01e950c80f",
   "metadata": {},
   "outputs": [
    {
     "name": "stdout",
     "output_type": "stream",
     "text": [
      "sum: 4051\n"
     ]
    }
   ],
   "source": [
    "#Q17\n",
    "l=[13,12,2006,2000,16,4]\n",
    "with open (\"text.txt\",\"w\") as f:\n",
    "    for i in l:\n",
    "        f.write(f\"{i}\\n\")\n",
    "total=0\n",
    "with open(\"text.txt\",\"r\") as f:\n",
    "    line=f.readline()\n",
    "    while line:\n",
    "        total+=int(line)\n",
    "        line=f.readline()\n",
    "\n",
    "print(\"sum:\", total)\n"
   ]
  },
  {
   "cell_type": "code",
   "execution_count": 24,
   "id": "9bd65db6-7367-49cb-8ce0-4dd120c26efe",
   "metadata": {},
   "outputs": [
    {
     "name": "stdin",
     "output_type": "stream",
     "text": [
      " 10\n"
     ]
    },
    {
     "name": "stdout",
     "output_type": "stream",
     "text": [
      "even\n"
     ]
    }
   ],
   "source": [
    "#Q23\n",
    "x=int(input())\n",
    "\n",
    "if x%2==0:\n",
    "    print(\"even\")\n",
    "else:\n",
    "    print(\"odd\")"
   ]
  },
  {
   "cell_type": "code",
   "execution_count": 25,
   "id": "1773da99-c1c7-4292-a1c9-a33edff40cf6",
   "metadata": {
    "scrolled": true
   },
   "outputs": [
    {
     "name": "stdin",
     "output_type": "stream",
     "text": [
      " 15\n"
     ]
    },
    {
     "name": "stdout",
     "output_type": "stream",
     "text": [
      "Your grade is F\n"
     ]
    }
   ],
   "source": [
    "#Q24\n",
    "x=int(input())\n",
    "\n",
    "if x in range(91,101):\n",
    "    print(\"Your grade is A\")\n",
    "elif x in range(81,91):\n",
    "    print(\"Your grade is A-\")\n",
    "elif x in range(71,81):\n",
    "    print(\"Your grade is B\")\n",
    "elif x in range(61,71):\n",
    "    print(\"Your grade is B\")\n",
    "elif x in range(51,61):\n",
    "    print(\"Your grade is C\")\n",
    "elif x in range(41,51):\n",
    "    print(\"Your grade is C-\")\n",
    "elif x in range(31,41):\n",
    "    print(\"Your grade is D\")\n",
    "else:\n",
    "    print(\"Your grade is F\")"
   ]
  },
  {
   "cell_type": "code",
   "execution_count": 4,
   "id": "adc3bfd2-2ce2-4984-9539-bf88e6fc707b",
   "metadata": {},
   "outputs": [
    {
     "name": "stdin",
     "output_type": "stream",
     "text": [
      " 2025\n"
     ]
    },
    {
     "name": "stdout",
     "output_type": "stream",
     "text": [
      "not a leap year\n"
     ]
    }
   ],
   "source": [
    "#Q25\n",
    "year=int(input())\n",
    "\n",
    "if (year%400==0):\n",
    "    print(\"leap year\")\n",
    "elif (year%4==0 and year%100!=0):\n",
    "    print(\"leap year\")\n",
    "else:\n",
    "    print(\"not a leap year\")"
   ]
  },
  {
   "cell_type": "code",
   "execution_count": null,
   "id": "664125a6-969b-492d-ba02-74fd34205667",
   "metadata": {},
   "outputs": [],
   "source": []
  }
 ],
 "metadata": {
  "kernelspec": {
   "display_name": "Python 3 (ipykernel)",
   "language": "python",
   "name": "python3"
  },
  "language_info": {
   "codemirror_mode": {
    "name": "ipython",
    "version": 3
   },
   "file_extension": ".py",
   "mimetype": "text/x-python",
   "name": "python",
   "nbconvert_exporter": "python",
   "pygments_lexer": "ipython3",
   "version": "3.12.7"
  }
 },
 "nbformat": 4,
 "nbformat_minor": 5
}
